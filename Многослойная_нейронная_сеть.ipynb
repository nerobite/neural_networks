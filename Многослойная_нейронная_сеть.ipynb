{
  "nbformat": 4,
  "nbformat_minor": 0,
  "metadata": {
    "colab": {
      "provenance": [],
      "authorship_tag": "ABX9TyO73rN0m2u6YEXzZVXU6evf",
      "include_colab_link": true
    },
    "kernelspec": {
      "name": "python3",
      "display_name": "Python 3"
    },
    "language_info": {
      "name": "python"
    }
  },
  "cells": [
    {
      "cell_type": "markdown",
      "metadata": {
        "id": "view-in-github",
        "colab_type": "text"
      },
      "source": [
        "<a href=\"https://colab.research.google.com/github/nerobite/neural_networks/blob/main/%D0%9C%D0%BD%D0%BE%D0%B3%D0%BE%D1%81%D0%BB%D0%BE%D0%B9%D0%BD%D0%B0%D1%8F_%D0%BD%D0%B5%D0%B9%D1%80%D0%BE%D0%BD%D0%BD%D0%B0%D1%8F_%D1%81%D0%B5%D1%82%D1%8C.ipynb\" target=\"_parent\"><img src=\"https://colab.research.google.com/assets/colab-badge.svg\" alt=\"Open In Colab\"/></a>"
      ]
    },
    {
      "cell_type": "markdown",
      "source": [
        "# Домашнее задание по теме «Многослойная нейронная сеть»\n",
        "Цель задания: научиться на простейшем уровне подбирать архитектуру полносвязной нейронной сети для получения качества решения задачи не ниже заданного."
      ],
      "metadata": {
        "id": "z7FgjuG9NnP8"
      }
    },
    {
      "cell_type": "markdown",
      "source": [
        "**Задание**\n",
        "Постройте модель на основе полносвязных слоёв для классификации Fashion MNIST из библиотеки torchvision ([datasets](https://pytorch.org/vision/stable/datasets.html)).\n",
        "Получите качество на тестовой выборке не ниже 88%\n",
        "\n",
        "**Инструкция по выполнению задания**\n",
        "\n",
        "1. Скачайте тренировочную и тестовою часть датасета Fashion MNIST\n",
        "\n",
        "2. Постройте модель, выбрав стартовую архитектуру\n",
        "\n",
        "3. Обучите модель и сверьте качество на тестовой части с заданным порогом\n",
        "\n",
        "4. Изменяйте архитектуру модели пока качество на тестовой части не будет выше порога. Вариации архитектуры можно реализовать через изменение количества слоёв, количества нейронов в слоях и использование регуляризации. Можно использовать различные оптимизаторы."
      ],
      "metadata": {
        "id": "H0yng-V9N327"
      }
    },
    {
      "cell_type": "code",
      "execution_count": 3,
      "metadata": {
        "id": "aTSSbMFANcYj"
      },
      "outputs": [],
      "source": [
        "import torchvision as tv\n",
        "import pandas as pd\n",
        "import numpy as np\n",
        "import torch\n",
        "import torch.nn as nn\n",
        "import time"
      ]
    },
    {
      "cell_type": "code",
      "source": [
        "BATCH_SIZE=256"
      ],
      "metadata": {
        "id": "OaSIj0tlOnhM"
      },
      "execution_count": 5,
      "outputs": []
    },
    {
      "cell_type": "code",
      "source": [
        "train_dataset = tv.datasets.MNIST('.', train=True, transform=tv.transforms.ToTensor(), download=True)\n",
        "test_dataset = tv.datasets.MNIST('.', train=False, transform=tv.transforms.ToTensor(), download=True)\n",
        "train = torch.utils.data.DataLoader(train_dataset, batch_size=BATCH_SIZE)\n",
        "test = torch.utils.data.DataLoader(test_dataset, batch_size=BATCH_SIZE)"
      ],
      "metadata": {
        "id": "h6IOFG6KORCu"
      },
      "execution_count": 6,
      "outputs": []
    },
    {
      "cell_type": "code",
      "source": [
        "train_dataset[0][0].shape"
      ],
      "metadata": {
        "colab": {
          "base_uri": "https://localhost:8080/"
        },
        "id": "ZsSlWgBfOp0k",
        "outputId": "2f164bf7-c3aa-47e0-f218-372993472eed"
      },
      "execution_count": 7,
      "outputs": [
        {
          "output_type": "execute_result",
          "data": {
            "text/plain": [
              "torch.Size([1, 28, 28])"
            ]
          },
          "metadata": {},
          "execution_count": 7
        }
      ]
    },
    {
      "cell_type": "code",
      "source": [
        "model = torch.nn.Sequential(\n",
        "    torch.nn.Flatten(),\n",
        "    torch.nn.Linear(784, 512),\n",
        "    torch.nn.BatchNorm1d(512),\n",
        "    torch.nn.ReLU(),\n",
        "    torch.nn.Linear(512, 256),\n",
        "    torch.nn.BatchNorm1d(256),\n",
        "    torch.nn.ReLU(),\n",
        "    torch.nn.Linear(256, 128),\n",
        "    torch.nn.BatchNorm1d(128),\n",
        "    torch.nn.ReLU(),\n",
        "    torch.nn.Linear(128, 32),\n",
        "    torch.nn.BatchNorm1d(32),\n",
        "    torch.nn.ReLU(),\n",
        "    torch.nn.Linear(32, 10)\n",
        "    )"
      ],
      "metadata": {
        "id": "HZDwT8ysO3Jz"
      },
      "execution_count": 13,
      "outputs": []
    },
    {
      "cell_type": "code",
      "source": [
        "model"
      ],
      "metadata": {
        "colab": {
          "base_uri": "https://localhost:8080/"
        },
        "id": "mFXVRInQQB0H",
        "outputId": "f001ee7c-7db1-40a3-f35e-cbab6283e6d5"
      },
      "execution_count": 14,
      "outputs": [
        {
          "output_type": "execute_result",
          "data": {
            "text/plain": [
              "Sequential(\n",
              "  (0): Flatten(start_dim=1, end_dim=-1)\n",
              "  (1): Linear(in_features=784, out_features=512, bias=True)\n",
              "  (2): BatchNorm1d(512, eps=1e-05, momentum=0.1, affine=True, track_running_stats=True)\n",
              "  (3): ReLU()\n",
              "  (4): Linear(in_features=512, out_features=256, bias=True)\n",
              "  (5): BatchNorm1d(256, eps=1e-05, momentum=0.1, affine=True, track_running_stats=True)\n",
              "  (6): ReLU()\n",
              "  (7): Linear(in_features=256, out_features=128, bias=True)\n",
              "  (8): BatchNorm1d(128, eps=1e-05, momentum=0.1, affine=True, track_running_stats=True)\n",
              "  (9): ReLU()\n",
              "  (10): Linear(in_features=128, out_features=32, bias=True)\n",
              "  (11): BatchNorm1d(32, eps=1e-05, momentum=0.1, affine=True, track_running_stats=True)\n",
              "  (12): ReLU()\n",
              "  (13): Linear(in_features=32, out_features=10, bias=True)\n",
              ")"
            ]
          },
          "metadata": {},
          "execution_count": 14
        }
      ]
    },
    {
      "cell_type": "code",
      "source": [
        "loss = torch.nn.CrossEntropyLoss()\n",
        "trainer = torch.optim.Adam(model.parameters(), lr=.01)\n",
        "num_epochs = 10"
      ],
      "metadata": {
        "id": "91c7if1LQEjP"
      },
      "execution_count": 18,
      "outputs": []
    },
    {
      "cell_type": "code",
      "source": [
        "def train_model():\n",
        "    for ep in range(num_epochs):\n",
        "        train_iters, train_passed  = 0, 0\n",
        "        train_loss, train_acc = 0., 0.\n",
        "        start=time.time()\n",
        "\n",
        "        model.train()\n",
        "        for X, y in train:\n",
        "            trainer.zero_grad()\n",
        "            y_pred = model(X)\n",
        "            l = loss(y_pred, y)\n",
        "            l.backward()\n",
        "            trainer.step()\n",
        "            train_loss += l.item()\n",
        "            train_acc += (y_pred.argmax(dim=1) == y).sum().item()\n",
        "            train_iters += 1\n",
        "            train_passed += len(X)\n",
        "\n",
        "        test_iters, test_passed  = 0, 0\n",
        "        test_loss, test_acc = 0., 0.\n",
        "        model.eval()\n",
        "        for X, y in test:\n",
        "            y_pred = model(X)\n",
        "            l = loss(y_pred, y)\n",
        "            test_loss += l.item()\n",
        "            test_acc += (y_pred.argmax(dim=1) == y).sum().item()\n",
        "            test_iters += 1\n",
        "            test_passed += len(X)\n",
        "\n",
        "        print(\"ep: {}, taked: {:.3f}, train_loss: {}, train_acc: {}, test_loss: {}, test_acc: {}\".format(\n",
        "            ep, time.time() - start, train_loss / train_iters, train_acc / train_passed,\n",
        "            test_loss / test_iters, test_acc / test_passed)\n",
        "        )"
      ],
      "metadata": {
        "id": "iWu0p60ZQi_H"
      },
      "execution_count": 16,
      "outputs": []
    },
    {
      "cell_type": "code",
      "source": [
        "train_model()"
      ],
      "metadata": {
        "colab": {
          "base_uri": "https://localhost:8080/"
        },
        "id": "gp2gyZ6FQnA6",
        "outputId": "e954047b-5072-4199-92e8-0972d95e25bf"
      },
      "execution_count": 19,
      "outputs": [
        {
          "output_type": "stream",
          "name": "stdout",
          "text": [
            "ep: 0, taked: 13.890, train_loss: 0.24269348631434617, train_acc: 0.933, test_loss: 0.128302570595406, test_acc: 0.9589\n",
            "ep: 1, taked: 13.922, train_loss: 0.09325601137144135, train_acc: 0.9714833333333334, test_loss: 0.10948093366459943, test_acc: 0.9668\n",
            "ep: 2, taked: 14.121, train_loss: 0.06097834970247238, train_acc: 0.9816, test_loss: 0.09567625726340338, test_acc: 0.9715\n",
            "ep: 3, taked: 14.312, train_loss: 0.044978943484974034, train_acc: 0.9855666666666667, test_loss: 0.08701998553733574, test_acc: 0.9736\n",
            "ep: 4, taked: 13.459, train_loss: 0.033566884965972696, train_acc: 0.9892, test_loss: 0.0921761783582042, test_acc: 0.9759\n",
            "ep: 5, taked: 13.371, train_loss: 0.03133266921789247, train_acc: 0.9898166666666667, test_loss: 0.10590796461910941, test_acc: 0.9718\n",
            "ep: 6, taked: 13.508, train_loss: 0.02288605476471972, train_acc: 0.99255, test_loss: 0.09749155449712817, test_acc: 0.9754\n",
            "ep: 7, taked: 13.435, train_loss: 0.021425275565892896, train_acc: 0.9928833333333333, test_loss: 0.10068664844857267, test_acc: 0.9753\n",
            "ep: 8, taked: 13.587, train_loss: 0.01728279186670292, train_acc: 0.9944, test_loss: 0.08268627089603342, test_acc: 0.9785\n",
            "ep: 9, taked: 13.461, train_loss: 0.0179044151279897, train_acc: 0.9943833333333333, test_loss: 0.09251087906131943, test_acc: 0.9778\n"
          ]
        }
      ]
    },
    {
      "cell_type": "code",
      "source": [
        "#Видим, что на 10 эпохе train_loss немного подрос, возможно модель начала переобучаться, соответственно дальнейшее обучение не нужно, необходимое качество модели получено."
      ],
      "metadata": {
        "id": "NXifKuFKSPaG"
      },
      "execution_count": null,
      "outputs": []
    },
    {
      "cell_type": "code",
      "source": [
        "# в качестве эксперимента изменим параметры"
      ],
      "metadata": {
        "id": "SIn-mR4kSsFd"
      },
      "execution_count": null,
      "outputs": []
    },
    {
      "cell_type": "code",
      "source": [
        "model = torch.nn.Sequential(\n",
        "    torch.nn.Flatten(),\n",
        "    torch.nn.Linear(784, 512),\n",
        "    torch.nn.Dropout(0.5),\n",
        "    torch.nn.ReLU(),\n",
        "    torch.nn.Linear(512, 256),\n",
        "    torch.nn.BatchNorm1d(256),\n",
        "    torch.nn.ReLU(),\n",
        "    torch.nn.Linear(256, 128),\n",
        "    torch.nn.Dropout(0.5),\n",
        "    torch.nn.ReLU(),\n",
        "    torch.nn.Linear(128, 32),\n",
        "    torch.nn.BatchNorm1d(32),\n",
        "    torch.nn.ReLU(),\n",
        "    torch.nn.Linear(32, 10)\n",
        "    )"
      ],
      "metadata": {
        "id": "srrUZI-8Sx4E"
      },
      "execution_count": 21,
      "outputs": []
    },
    {
      "cell_type": "code",
      "source": [
        "model"
      ],
      "metadata": {
        "colab": {
          "base_uri": "https://localhost:8080/"
        },
        "id": "8eKALVAeTVrl",
        "outputId": "5775bb01-fc22-4169-d0ec-72c994d7cc63"
      },
      "execution_count": 22,
      "outputs": [
        {
          "output_type": "execute_result",
          "data": {
            "text/plain": [
              "Sequential(\n",
              "  (0): Flatten(start_dim=1, end_dim=-1)\n",
              "  (1): Linear(in_features=784, out_features=512, bias=True)\n",
              "  (2): Dropout(p=0.5, inplace=False)\n",
              "  (3): ReLU()\n",
              "  (4): Linear(in_features=512, out_features=256, bias=True)\n",
              "  (5): BatchNorm1d(256, eps=1e-05, momentum=0.1, affine=True, track_running_stats=True)\n",
              "  (6): ReLU()\n",
              "  (7): Linear(in_features=256, out_features=128, bias=True)\n",
              "  (8): Dropout(p=0.5, inplace=False)\n",
              "  (9): ReLU()\n",
              "  (10): Linear(in_features=128, out_features=32, bias=True)\n",
              "  (11): BatchNorm1d(32, eps=1e-05, momentum=0.1, affine=True, track_running_stats=True)\n",
              "  (12): ReLU()\n",
              "  (13): Linear(in_features=32, out_features=10, bias=True)\n",
              ")"
            ]
          },
          "metadata": {},
          "execution_count": 22
        }
      ]
    },
    {
      "cell_type": "code",
      "source": [
        "loss = torch.nn.CrossEntropyLoss()\n",
        "trainer = torch.optim.RMSprop(model.parameters(), lr=.01)\n",
        "num_epochs = 10"
      ],
      "metadata": {
        "id": "aYY0JaSzTJOB"
      },
      "execution_count": 23,
      "outputs": []
    },
    {
      "cell_type": "code",
      "source": [
        "train_model()"
      ],
      "metadata": {
        "colab": {
          "base_uri": "https://localhost:8080/"
        },
        "id": "rqMcqCKfTg9n",
        "outputId": "31e588f9-518e-4b36-b2a8-7cb294cb6b0c"
      },
      "execution_count": 24,
      "outputs": [
        {
          "output_type": "stream",
          "name": "stdout",
          "text": [
            "ep: 0, taked: 13.621, train_loss: 0.4497471792742293, train_acc: 0.8561, test_loss: 0.22001185107510537, test_acc: 0.9349\n",
            "ep: 1, taked: 13.478, train_loss: 0.20830419463046054, train_acc: 0.9418333333333333, test_loss: 0.1307021677494049, test_acc: 0.9604\n",
            "ep: 2, taked: 13.688, train_loss: 0.16618107346461175, train_acc: 0.9528166666666666, test_loss: 0.10534885316737927, test_acc: 0.969\n",
            "ep: 3, taked: 13.524, train_loss: 0.1431672879514542, train_acc: 0.9593166666666667, test_loss: 0.09300981083943043, test_acc: 0.9718\n",
            "ep: 4, taked: 13.808, train_loss: 0.1264190141151243, train_acc: 0.9655, test_loss: 0.08632637001865077, test_acc: 0.9751\n",
            "ep: 5, taked: 14.149, train_loss: 0.11381868225462893, train_acc: 0.9674666666666667, test_loss: 0.07417325814167271, test_acc: 0.9787\n",
            "ep: 6, taked: 14.176, train_loss: 0.104632625697141, train_acc: 0.9698666666666667, test_loss: 0.07513518250489142, test_acc: 0.9786\n",
            "ep: 7, taked: 13.738, train_loss: 0.09821211260129163, train_acc: 0.9716166666666667, test_loss: 0.07206575831078225, test_acc: 0.9789\n",
            "ep: 8, taked: 13.270, train_loss: 0.0916925533179273, train_acc: 0.97425, test_loss: 0.0777191850807867, test_acc: 0.9789\n",
            "ep: 9, taked: 13.465, train_loss: 0.08609550558030606, train_acc: 0.9752833333333333, test_loss: 0.07348497591447085, test_acc: 0.9791\n"
          ]
        }
      ]
    },
    {
      "cell_type": "code",
      "source": [
        "#Добавление Dropout не много, по повысило качество модели и избавило ее от переобучения"
      ],
      "metadata": {
        "id": "SdiZYk_IUI08"
      },
      "execution_count": null,
      "outputs": []
    },
    {
      "cell_type": "code",
      "source": [
        "#Попробуем ту же модель, но теперь с оператором Adam"
      ],
      "metadata": {
        "id": "n-JQXrRhUWYV"
      },
      "execution_count": null,
      "outputs": []
    },
    {
      "cell_type": "code",
      "source": [
        "loss = torch.nn.CrossEntropyLoss()\n",
        "trainer = torch.optim.Adam(model.parameters(), lr=.01)\n",
        "num_epochs = 10"
      ],
      "metadata": {
        "id": "1RgHg6tnUeDa"
      },
      "execution_count": 25,
      "outputs": []
    },
    {
      "cell_type": "code",
      "source": [
        "train_model()"
      ],
      "metadata": {
        "colab": {
          "base_uri": "https://localhost:8080/"
        },
        "id": "LztV9ckxUjRq",
        "outputId": "e313589a-c160-4c1e-d5dd-819c8f3d6acf"
      },
      "execution_count": 26,
      "outputs": [
        {
          "output_type": "stream",
          "name": "stdout",
          "text": [
            "ep: 0, taked: 14.251, train_loss: 0.08445948730123803, train_acc: 0.9758166666666667, test_loss: 0.06441805298090912, test_acc: 0.9822\n",
            "ep: 1, taked: 13.935, train_loss: 0.07914308038480738, train_acc: 0.9771166666666666, test_loss: 0.06611715400795219, test_acc: 0.9804\n",
            "ep: 2, taked: 13.885, train_loss: 0.0718383460246185, train_acc: 0.97955, test_loss: 0.06743319488232373, test_acc: 0.9816\n",
            "ep: 3, taked: 13.896, train_loss: 0.06962267379177378, train_acc: 0.9799833333333333, test_loss: 0.06423537344307988, test_acc: 0.9819\n",
            "ep: 4, taked: 13.989, train_loss: 0.06714783220135785, train_acc: 0.9807, test_loss: 0.06321509596491523, test_acc: 0.9818\n",
            "ep: 5, taked: 14.404, train_loss: 0.06176252698010587, train_acc: 0.9819166666666667, test_loss: 0.05962656399824482, test_acc: 0.9822\n",
            "ep: 6, taked: 14.412, train_loss: 0.0578387515307305, train_acc: 0.9830166666666666, test_loss: 0.057609591788423134, test_acc: 0.983\n",
            "ep: 7, taked: 14.255, train_loss: 0.058743448612934096, train_acc: 0.9833166666666666, test_loss: 0.059289025149337246, test_acc: 0.9841\n",
            "ep: 8, taked: 14.239, train_loss: 0.05854694096450793, train_acc: 0.9828, test_loss: 0.060588022778756565, test_acc: 0.9825\n",
            "ep: 9, taked: 14.212, train_loss: 0.055031833387515015, train_acc: 0.9836666666666667, test_loss: 0.06700893084671407, test_acc: 0.9816\n"
          ]
        }
      ]
    },
    {
      "cell_type": "code",
      "source": [
        "#Комбинация Dropout и BatchNorm1d, при изспользовании Adam побеждают в данном занятии)))"
      ],
      "metadata": {
        "id": "xrlHn71kVSYt"
      },
      "execution_count": null,
      "outputs": []
    }
  ]
}