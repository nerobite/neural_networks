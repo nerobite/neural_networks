{
  "cells": [
    {
      "cell_type": "markdown",
      "metadata": {
        "id": "view-in-github",
        "colab_type": "text"
      },
      "source": [
        "<a href=\"https://colab.research.google.com/github/nerobite/neural_networks/blob/main/Hybrid_recommender_systems.ipynb\" target=\"_parent\"><img src=\"https://colab.research.google.com/assets/colab-badge.svg\" alt=\"Open In Colab\"/></a>"
      ]
    },
    {
      "cell_type": "code",
      "execution_count": null,
      "metadata": {
        "colab": {
          "base_uri": "https://localhost:8080/"
        },
        "id": "J5CdbKJzWssx",
        "outputId": "571dcfcc-413a-40ea-bad2-f769cc3d55fe"
      },
      "outputs": [
        {
          "output_type": "stream",
          "name": "stdout",
          "text": [
            "Collecting lightfm\n",
            "  Downloading lightfm-1.17.tar.gz (316 kB)\n",
            "\u001b[2K     \u001b[90m━━━━━━━━━━━━━━━━━━━━━━━━━━━━━━━━━━━━━━━━\u001b[0m \u001b[32m316.4/316.4 kB\u001b[0m \u001b[31m4.6 MB/s\u001b[0m eta \u001b[36m0:00:00\u001b[0m\n",
            "\u001b[?25h  Preparing metadata (setup.py) ... \u001b[?25l\u001b[?25hdone\n",
            "Requirement already satisfied: numpy in /usr/local/lib/python3.10/dist-packages (from lightfm) (1.25.2)\n",
            "Requirement already satisfied: scipy>=0.17.0 in /usr/local/lib/python3.10/dist-packages (from lightfm) (1.11.4)\n",
            "Requirement already satisfied: requests in /usr/local/lib/python3.10/dist-packages (from lightfm) (2.31.0)\n",
            "Requirement already satisfied: scikit-learn in /usr/local/lib/python3.10/dist-packages (from lightfm) (1.2.2)\n",
            "Requirement already satisfied: charset-normalizer<4,>=2 in /usr/local/lib/python3.10/dist-packages (from requests->lightfm) (3.3.2)\n",
            "Requirement already satisfied: idna<4,>=2.5 in /usr/local/lib/python3.10/dist-packages (from requests->lightfm) (3.6)\n",
            "Requirement already satisfied: urllib3<3,>=1.21.1 in /usr/local/lib/python3.10/dist-packages (from requests->lightfm) (2.0.7)\n",
            "Requirement already satisfied: certifi>=2017.4.17 in /usr/local/lib/python3.10/dist-packages (from requests->lightfm) (2024.2.2)\n",
            "Requirement already satisfied: joblib>=1.1.1 in /usr/local/lib/python3.10/dist-packages (from scikit-learn->lightfm) (1.3.2)\n",
            "Requirement already satisfied: threadpoolctl>=2.0.0 in /usr/local/lib/python3.10/dist-packages (from scikit-learn->lightfm) (3.2.0)\n",
            "Building wheels for collected packages: lightfm\n",
            "  Building wheel for lightfm (setup.py) ... \u001b[?25l\u001b[?25hdone\n",
            "  Created wheel for lightfm: filename=lightfm-1.17-cp310-cp310-linux_x86_64.whl size=808330 sha256=22f177da57ce05c68ba98bc1fd0cd21f50a3ad47301db5a2fcfa54c0eb541006\n",
            "  Stored in directory: /root/.cache/pip/wheels/4f/9b/7e/0b256f2168511d8fa4dae4fae0200fdbd729eb424a912ad636\n",
            "Successfully built lightfm\n",
            "Installing collected packages: lightfm\n",
            "Successfully installed lightfm-1.17\n"
          ]
        }
      ],
      "source": [
        "pip install lightfm"
      ]
    },
    {
      "cell_type": "code",
      "execution_count": null,
      "metadata": {
        "id": "kU7QULuw1qrs"
      },
      "outputs": [],
      "source": [
        "import pandas as pd\n",
        "import numpy as np\n",
        "\n",
        "from lightfm.datasets import fetch_movielens\n",
        "from tqdm import tqdm"
      ]
    },
    {
      "cell_type": "code",
      "execution_count": null,
      "metadata": {
        "colab": {
          "base_uri": "https://localhost:8080/"
        },
        "id": "H9zBEzMoW8ke",
        "outputId": "e59aaff5-5213-4f9f-c7ce-3c305fdc6148"
      },
      "outputs": [
        {
          "output_type": "execute_result",
          "data": {
            "text/plain": [
              "{'train': <943x1682 sparse matrix of type '<class 'numpy.int32'>'\n",
              " \twith 90570 stored elements in COOrdinate format>,\n",
              " 'test': <943x1682 sparse matrix of type '<class 'numpy.int32'>'\n",
              " \twith 9430 stored elements in COOrdinate format>,\n",
              " 'item_features': <1682x1682 sparse matrix of type '<class 'numpy.float32'>'\n",
              " \twith 1682 stored elements in Compressed Sparse Row format>,\n",
              " 'item_feature_labels': array(['T', 'G', 'F', ..., 'S', 'Y', 'S'], dtype='<U1'),\n",
              " 'item_labels': array(['T', 'G', 'F', ..., 'S', 'Y', 'S'], dtype='<U1')}"
            ]
          },
          "metadata": {},
          "execution_count": 3
        }
      ],
      "source": [
        "movielens = fetch_movielens()\n",
        "movielens"
      ]
    },
    {
      "cell_type": "code",
      "execution_count": null,
      "metadata": {
        "colab": {
          "base_uri": "https://localhost:8080/"
        },
        "id": "arjhfymqZUjD",
        "outputId": "7f7c8031-032d-4c12-dd72-d2cd49b990af"
      },
      "outputs": [
        {
          "output_type": "stream",
          "name": "stdout",
          "text": [
            "train <class 'scipy.sparse._coo.coo_matrix'> (943, 1682)\n",
            "test <class 'scipy.sparse._coo.coo_matrix'> (943, 1682)\n",
            "item_features <class 'scipy.sparse._csr.csr_matrix'> (1682, 1682)\n",
            "item_feature_labels <class 'numpy.ndarray'> (1682,)\n",
            "item_labels <class 'numpy.ndarray'> (1682,)\n"
          ]
        }
      ],
      "source": [
        "for key, value in movielens.items():\n",
        "    print(key, type(value), value.shape)"
      ]
    },
    {
      "cell_type": "code",
      "execution_count": null,
      "metadata": {
        "id": "DPIg8zo9XKWN"
      },
      "outputs": [],
      "source": [
        "train = movielens['train']\n",
        "test = movielens['test']"
      ]
    },
    {
      "cell_type": "code",
      "execution_count": null,
      "metadata": {
        "id": "a46ROnCiXMUj"
      },
      "outputs": [],
      "source": [
        "from lightfm import LightFM\n",
        "\n",
        "from lightfm.evaluation import auc_score\n"
      ]
    },
    {
      "cell_type": "code",
      "source": [
        "featers = movielens['item_features']"
      ],
      "metadata": {
        "id": "EmyR_JqF27Oa"
      },
      "execution_count": null,
      "outputs": []
    },
    {
      "cell_type": "code",
      "execution_count": null,
      "metadata": {
        "colab": {
          "base_uri": "https://localhost:8080/"
        },
        "id": "gxnIMIvIZ0_n",
        "outputId": "2cb1e612-cf62-4816-9a41-597bb0f31d6e"
      },
      "outputs": [
        {
          "output_type": "stream",
          "name": "stdout",
          "text": [
            "AUC Score: train 0.87, test 0.86.\n"
          ]
        }
      ],
      "source": [
        "model = LightFM()\n",
        "model.fit(train, epochs=10)\n",
        "\n",
        "train_auc_score = auc_score(model, train, item_features=featers).mean()\n",
        "test_auc_score = auc_score(model, test, train_interactions=train, item_features=featers).mean()\n",
        "\n",
        "print('AUC Score: train %.2f, test %.2f.' % (train_auc_score, test_auc_score))"
      ]
    },
    {
      "cell_type": "code",
      "execution_count": null,
      "metadata": {
        "id": "iJH6SDVaYWJm"
      },
      "outputs": [],
      "source": [
        "def sample_recommendation(model, data, user_ids):\n",
        "    n_users, n_items = data['train'].shape\n",
        "    for user_id in user_ids:\n",
        "        known_positives = data['item_labels'][data['train'].tocsr()\n",
        "                          [user_id].indices]\n",
        "\n",
        "        scores = model.predict(user_id, np.arange(n_items))\n",
        "\n",
        "        top_items = data['item_labels'][np.argsort(-scores)]\n",
        "\n",
        "        print(\"User %s\" % user_id)\n",
        "        print(\"     Known positives:\")\n",
        "\n",
        "        for x in known_positives[:3]:\n",
        "            print(\"        %s\" % x)\n",
        "\n",
        "        print(\"     Recommended:\")\n",
        "\n",
        "        for x in top_items[:3]:\n",
        "            print(\"        %s\" % x)"
      ]
    },
    {
      "cell_type": "code",
      "execution_count": null,
      "metadata": {
        "colab": {
          "base_uri": "https://localhost:8080/"
        },
        "id": "JFeM76lCYknC",
        "outputId": "141da949-9993-4cba-f295-46fa808b0238"
      },
      "outputs": [
        {
          "output_type": "stream",
          "name": "stdout",
          "text": [
            "User 1\n",
            "     Known positives:\n",
            "        T\n",
            "        R\n",
            "        P\n",
            "     Recommended:\n",
            "        S\n",
            "        F\n",
            "        C\n",
            "User 2\n",
            "     Known positives:\n",
            "        R\n",
            "        C\n",
            "        E\n",
            "     Recommended:\n",
            "        S\n",
            "        C\n",
            "        E\n",
            "User 5\n",
            "     Known positives:\n",
            "        T\n",
            "        T\n",
            "        B\n",
            "     Recommended:\n",
            "        S\n",
            "        F\n",
            "        R\n"
          ]
        }
      ],
      "source": [
        "sample_recommendation(model, movielens, [1, 2, 5])"
      ]
    }
  ],
  "metadata": {
    "colab": {
      "provenance": [],
      "authorship_tag": "ABX9TyOaYRCbI+K++g7fydg4K/eV",
      "include_colab_link": true
    },
    "kernelspec": {
      "display_name": "Python 3",
      "name": "python3"
    },
    "language_info": {
      "name": "python"
    }
  },
  "nbformat": 4,
  "nbformat_minor": 0
}